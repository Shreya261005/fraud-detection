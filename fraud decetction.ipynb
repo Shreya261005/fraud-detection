!pip install imbalanced-learn seaborn
import pandas as pd
import numpy as np
import seaborn as sns
import matplotlib.pyplot as plt
from sklearn.model_selection import train_test_split
from sklearn.ensemble import RandomForestClassifier
from sklearn.metrics import classification_report, confusion_matrix, roc_auc_score
from imblearn.over_sampling import SMOTE
from google.colab import files
uploaded = files.upload()
data = pd.read_csv("creditcard.csv.zip")
data.head()
print("Original Dataset Shape:", data.shape)
print(data['Class'].value_counts())

# Visualize imbalance
sns.countplot(x='Class', data=data)
plt.title("Class Distribution (0: Not Fraud, 1: Fraud)")
plt.show()
X = data.drop("Class", axis=1)
y = data["Class"]

# Balance the dataset using SMOTE
sm = SMOTE(random_state=42)
X_res, y_res = sm.fit_resample(X, y)

print("Resampled Dataset Shape:", X_res.shape)
print(np.bincount(y_res))
X_train, X_test, y_train, y_test = train_test_split(X_res, y_res, test_size=0.3, random_state=42)
clf = RandomForestClassifier(n_estimators=100, random_state=42)
clf.fit(X_train, y_train)

y_pred = clf.predict(X_test)
print("\nConfusion Matrix:\n", confusion_matrix(y_test, y_pred))
print("\nClassification Report:\n", classification_report(y_test, y_pred))
print("ROC-AUC Score:", roc_auc_score(y_test, y_pred))
importances = clf.feature_importances_
features = X.columns
indices = np.argsort(importances)[-10:]

plt.figure(figsize=(10, 6))
sns.barplot(x=importances[indices], y=features[indices])
plt.title("Top 10 Feature Importances")
plt.tight_layout()
plt.show()
